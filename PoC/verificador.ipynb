{
 "cells": [
  {
   "cell_type": "markdown",
   "metadata": {},
   "source": [
    "## Verificador\n",
    "\n",
    "PoC para un verificador de tatuajes\n",
    "\n",
    "---"
   ]
  },
  {
   "cell_type": "markdown",
   "metadata": {},
   "source": [
    "### Load Dependencies"
   ]
  },
  {
   "cell_type": "code",
   "execution_count": 8,
   "metadata": {},
   "outputs": [],
   "source": [
    "# This will help us to measure the time it took for the whole\n",
    "# notebook to execute\n",
    "import time\n",
    "start_time = time.time()\n",
    "\n",
    "import cv2\n",
    "import os\n",
    "from pathlib import Path\n",
    "import re\n",
    "import shutil\n",
    "import numpy as np"
   ]
  },
  {
   "cell_type": "code",
   "execution_count": 9,
   "metadata": {},
   "outputs": [],
   "source": [
    "# Define logs\n",
    "from datetime import datetime\n",
    "import logging\n",
    "\n",
    "log_folder = 'logs'\n",
    "if not os.path.exists(log_folder):\n",
    "    os.makedirs(log_folder)\n",
    "\n",
    "log_file = f\"{log_folder}/run_{datetime.now():%Y%m%d}.log\"\n",
    "\n",
    "logging.basicConfig(\n",
    "    filename=log_file,  # Use the dynamic log file name\n",
    "    level=logging.DEBUG,  # Set the logging level\n",
    "    format='%(asctime)s - %(levelname)s - %(message)s',  # Log format\n",
    "    filemode='w'  # 'w' to overwrite the log file each time, 'a' to append\n",
    ")\n",
    "\n",
    "logging.info(f\"Process started ...\")"
   ]
  },
  {
   "cell_type": "markdown",
   "metadata": {},
   "source": [
    "### Load dataset"
   ]
  },
  {
   "cell_type": "code",
   "execution_count": null,
   "metadata": {},
   "outputs": [
    {
     "name": "stdout",
     "output_type": "stream",
     "text": [
      "Base images in data folder: \n",
      "     Total of bounding boxes:  4411\n",
      "     Total of images:  4411\n",
      "     Total of base images:  161\n"
     ]
    }
   ],
   "source": [
    "base_path = Path(\"../datasets/BIVTatt-Dataset\")\n",
    "bound_box_path = Path(f\"{base_path}/bounding_boxes\")\n",
    "images_path = Path(f\"{base_path}/images\")\n",
    "pattern = r'^\\d+_\\d+\\.JPG'\n",
    "total_bound_boxes = [file.name for file in bound_box_path.iterdir() if file.is_file()]\n",
    "all_images = [file.name for file in images_path.iterdir() if file.is_file()]\n",
    "base_images = [file.name for file in images_path.iterdir() if file.is_file() and re.match(pattern, file.name)]\n",
    "\n",
    "print (\"Base images in data folder: \")\n",
    "print(\"     Total of bounding boxes: \", len(total_bound_boxes))\n",
    "print(\"     Total of images: \", len(all_images))\n",
    "print(\"     Total of base images: \", len(base_images))\n",
    "#print('')\n",
    "#print(\"Base images and their variants\")\n",
    "\n",
    "logging.info(\"Base images in data folder: \")\n",
    "logging.info(f\"     Total of bounding boxes:    {len(total_bound_boxes)}\")\n",
    "logging.info(f\"     Total of images:            {len(all_images)}\")\n",
    "logging.info(f\"     Total of base images:       {len(base_images)}\")\n",
    "logging.info(\"\")\n",
    "logging.info(\"Base images and their variants\")\n",
    "\n",
    "base_image_variant_counts = {base_image: 0 for base_image in base_images}\n",
    "\n",
    "for image in all_images:\n",
    "    for base_image in base_images:\n",
    "        if image.startswith(base_image[:-4]):\n",
    "            base_image_variant_counts[base_image] += 1\n",
    "\n",
    "for base_image, count in base_image_variant_counts.items():\n",
    "    logging.info(f\"    Base image '{base_image}' has {count} variants.\")\n",
    "    # print(f\"    Base image '{base_image}' has {count} variants.\")\n",
    "\n",
    "logging.info(\"\")"
   ]
  },
  {
   "cell_type": "markdown",
   "metadata": {},
   "source": [
    "### Preprocess"
   ]
  },
  {
   "cell_type": "markdown",
   "metadata": {},
   "source": [
    "#### Setup workdir"
   ]
  },
  {
   "cell_type": "code",
   "execution_count": 11,
   "metadata": {},
   "outputs": [],
   "source": [
    "working_path = f\"{base_path}/workdir\"\n",
    "\n",
    "if not os.path.exists(working_path):\n",
    "    os.makedirs(working_path)\n",
    "else:\n",
    "    shutil.rmtree(working_path)\n",
    "    os.makedirs(working_path)"
   ]
  },
  {
   "cell_type": "markdown",
   "metadata": {},
   "source": [
    "#### Create needed methods"
   ]
  },
  {
   "cell_type": "code",
   "execution_count": 12,
   "metadata": {},
   "outputs": [],
   "source": [
    "size = (224, 224)\n",
    "\n",
    "def load_image(image_path):\n",
    "    # print(f\"Image: {image_path}\")    \n",
    "    return cv2.imread(image_path)\n",
    "\n",
    "\n",
    "def load_bbox(bbox_file):\n",
    "    file_box = bbox_file.replace(\".JPG\", \".txt\")\n",
    "    file_box = file_box.replace(\".jpg\", \".txt\")\n",
    "    # print(f\"Bounding box: {file_box}\")\n",
    "    with open(file_box, 'r') as file:\n",
    "        bbox = file.readline().strip().split()\n",
    "        bbox = [int(coord) for coord in bbox]\n",
    "    return tuple(bbox)\n",
    "\n",
    "\n",
    "def crop_image(image, bbox):\n",
    "    x1, y1, x2, y2 = bbox\n",
    "\n",
    "    if x2 <= x1 or y2 <= y1:\n",
    "        raise ValueError(f\"Invalid bounding box: {bbox}\")\n",
    "\n",
    "    # print(\"BBOX:\")\n",
    "    # print(f\"    x1: {x1}\")\n",
    "    # print(f\"    y1: {y1}\")\n",
    "    # print(f\"    x2: {x2}\")\n",
    "    # print(f\"    y2: {y2}\")\n",
    "    return image[y1:y2, x1:x2]\n",
    "\n",
    "\n",
    "def resize_image(image):\n",
    "    global size\n",
    "    return cv2.resize(image, size)\n",
    "\n",
    "\n",
    "def normalize_image(image):\n",
    "    image = image / 255.0\n",
    "    return image.astype(np.float32)\n",
    "\n",
    "\n",
    "def convert_to_gray(image):\n",
    "    image = cv2.cvtColor(image, cv2.COLOR_BGR2GRAY)\n",
    "    return image.astype(np.uint8)\n",
    "\n",
    "\n",
    "def preprocess_image(image_name):\n",
    "    image = load_image(f\"{images_path}/{image_name}\")\n",
    "    bbox = load_bbox(f\"{bound_box_path}/{image_name}\")\n",
    "    validate_image(image)\n",
    "    image = crop_image(image, bbox)\n",
    "    image = resize_image(image)\n",
    "    image = normalize_image(image)\n",
    "    image = convert_to_gray(image)\n",
    "    return image\n",
    "\n",
    "\n",
    "def validate_image(image):\n",
    "    if image is None:\n",
    "        raise ValueError(f\"Image does not exist\")\n",
    "    \n",
    "    if image.size == 0:\n",
    "        raise ValueError(f\"Image is empty\")\n",
    "    \n",
    "    if len(image.shape) < 2:\n",
    "        raise ValueError(f\"Image has incorrect dimensions\")\n",
    "    \n",
    "    # print(f\"Image shape: {image.shape}\")\n",
    "    # print(f\"Image is ok.\")\n",
    "\n",
    "has_error_ocurred = False\n",
    "def preprocess_dataset():\n",
    "    global has_error_ocurred\n",
    "    preprocessed_images = []\n",
    "    for root, _, files in os.walk(images_path):\n",
    "        for file in files:\n",
    "            if file.endswith(('.jpg', '.jpeg', '.png', 'JPG')):\n",
    "                try:\n",
    "                    preprocessed_image = preprocess_image(file)\n",
    "                    preprocessed_images.append(preprocessed_image)\n",
    "                except Exception as e:\n",
    "                    logging.error(f\"Image {file} could not be processed.\")\n",
    "                    logging.error(f\"{e}\")\n",
    "                    if has_error_ocurred == False:\n",
    "                        print(\"Some errors ocurred, please check the logs.\")\n",
    "                        print(\"\")\n",
    "                        has_error_ocurred = True\n",
    "\n",
    "    return preprocessed_images"
   ]
  },
  {
   "cell_type": "code",
   "execution_count": 13,
   "metadata": {},
   "outputs": [
    {
     "name": "stdout",
     "output_type": "stream",
     "text": [
      "Some errors ocurred, please check the logs.\n",
      "\n",
      "Total of preprocessed images: 4038\n"
     ]
    }
   ],
   "source": [
    "preprocessed_images = preprocess_dataset()\n",
    "\n",
    "for idx, img in enumerate(preprocessed_images):\n",
    "    output_path = os.path.join(working_path, f\"preprocessed_image_{idx}.JPG\")\n",
    "    cv2.imwrite(output_path, img * 255)\n",
    "\n",
    "print(f\"Total of preprocessed images: {len(preprocessed_images)}\")\n",
    "logging.info(f\"Total of preprocessed images: {len(preprocessed_images)}\")"
   ]
  },
  {
   "cell_type": "markdown",
   "metadata": {},
   "source": [
    "---\n",
    "\n",
    "## Total Time\n",
    "\n",
    "This show the total time of execution"
   ]
  },
  {
   "cell_type": "code",
   "execution_count": 14,
   "metadata": {},
   "outputs": [
    {
     "name": "stdout",
     "output_type": "stream",
     "text": [
      "Total execution time: 0.0 minutes and 8.22 seconds\n"
     ]
    }
   ],
   "source": [
    "# Sets the total time of execution\n",
    "end_time = time.time()\n",
    "execution_time = end_time - start_time\n",
    "\n",
    "# Calculate minutes and seconds\n",
    "minutes = execution_time // 60  # Integer division for whole minutes\n",
    "seconds = execution_time % 60   # Remainder for leftover seconds\n",
    "\n",
    "print(f\"Total execution time: {minutes} minutes and {seconds:.2f} seconds\")\n",
    "logging.info(\"\")\n",
    "logging.info(f\"Total execution time: {minutes} minutes and {seconds:.2f} seconds\")\n",
    "logging.info(\"\")"
   ]
  }
 ],
 "metadata": {
  "kernelspec": {
   "display_name": "maestria-sandbox-M6nm_6C6",
   "language": "python",
   "name": "python3"
  },
  "language_info": {
   "codemirror_mode": {
    "name": "ipython",
    "version": 3
   },
   "file_extension": ".py",
   "mimetype": "text/x-python",
   "name": "python",
   "nbconvert_exporter": "python",
   "pygments_lexer": "ipython3",
   "version": "3.12.4"
  }
 },
 "nbformat": 4,
 "nbformat_minor": 2
}
