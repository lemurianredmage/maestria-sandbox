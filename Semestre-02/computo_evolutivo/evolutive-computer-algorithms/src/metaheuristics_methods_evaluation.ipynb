{
 "cells": [
  {
   "cell_type": "markdown",
   "metadata": {},
   "source": [
    "# Experiments"
   ]
  },
  {
   "cell_type": "markdown",
   "metadata": {},
   "source": [
    "## Import libraries"
   ]
  },
  {
   "cell_type": "code",
   "execution_count": 1,
   "metadata": {},
   "outputs": [],
   "source": [
    "from Experiment import Experiment"
   ]
  },
  {
   "cell_type": "code",
   "execution_count": 2,
   "metadata": {},
   "outputs": [],
   "source": [
    "one_dimension = Experiment.experimentForOneDimension(20, 20)"
   ]
  },
  {
   "cell_type": "code",
   "execution_count": 3,
   "metadata": {},
   "outputs": [
    {
     "data": {
      "text/html": [
       "<div>\n",
       "<style scoped>\n",
       "    .dataframe tbody tr th:only-of-type {\n",
       "        vertical-align: middle;\n",
       "    }\n",
       "\n",
       "    .dataframe tbody tr th {\n",
       "        vertical-align: top;\n",
       "    }\n",
       "\n",
       "    .dataframe thead th {\n",
       "        text-align: right;\n",
       "    }\n",
       "</style>\n",
       "<table border=\"1\" class=\"dataframe\">\n",
       "  <thead>\n",
       "    <tr style=\"text-align: right;\">\n",
       "      <th></th>\n",
       "      <th>func</th>\n",
       "      <th>method</th>\n",
       "      <th>hyperparameters</th>\n",
       "      <th>best_result</th>\n",
       "      <th>convergence_list</th>\n",
       "    </tr>\n",
       "  </thead>\n",
       "  <tbody>\n",
       "    <tr>\n",
       "      <th>0</th>\n",
       "      <td>&lt;function Equations.F1 at 0x0000026B0D3B7910&gt;</td>\n",
       "      <td>hill_climbing</td>\n",
       "      <td>{'func': &lt;function Equations.F1 at 0x0000026B0...</td>\n",
       "      <td>[-0.5054847966357521]</td>\n",
       "      <td>[1.3804246200065662, 1.3804246200065662, 1.380...</td>\n",
       "    </tr>\n",
       "    <tr>\n",
       "      <th>1</th>\n",
       "      <td>&lt;function Equations.F1 at 0x0000026B0D3B7910&gt;</td>\n",
       "      <td>steepest_ascent_hill_climbing</td>\n",
       "      <td>{'func': &lt;function Equations.F1 at 0x0000026B0...</td>\n",
       "      <td>[0.3660922847011143]</td>\n",
       "      <td>[6.42886204930441, 1.5787582676949237, 1.56821...</td>\n",
       "    </tr>\n",
       "    <tr>\n",
       "      <th>2</th>\n",
       "      <td>&lt;function Equations.F1 at 0x0000026B0D3B7910&gt;</td>\n",
       "      <td>steepest_ascent_hill_climbing_with_replacement</td>\n",
       "      <td>{'func': &lt;function Equations.F1 at 0x0000026B0...</td>\n",
       "      <td>[0.08738550921658828]</td>\n",
       "      <td>[5.689407279807489, 2.0356917788771653, 1.5761...</td>\n",
       "    </tr>\n",
       "    <tr>\n",
       "      <th>3</th>\n",
       "      <td>&lt;function Equations.F1 at 0x0000026B0D3B7910&gt;</td>\n",
       "      <td>random_search</td>\n",
       "      <td>{'func': &lt;function Equations.F1 at 0x0000026B0...</td>\n",
       "      <td>[-0.0748192711787965]</td>\n",
       "      <td>[13.804079495656602, 13.288181673179059, 1.519...</td>\n",
       "    </tr>\n",
       "    <tr>\n",
       "      <th>4</th>\n",
       "      <td>&lt;function Equations.F2 at 0x0000026B0D4440D0&gt;</td>\n",
       "      <td>hill_climbing</td>\n",
       "      <td>{'func': &lt;function Equations.F2 at 0x0000026B0...</td>\n",
       "      <td>[1.0707677244969815]</td>\n",
       "      <td>[18.668794939747553, 12.43526487636964, 12.435...</td>\n",
       "    </tr>\n",
       "  </tbody>\n",
       "</table>\n",
       "</div>"
      ],
      "text/plain": [
       "                                            func  \\\n",
       "0  <function Equations.F1 at 0x0000026B0D3B7910>   \n",
       "1  <function Equations.F1 at 0x0000026B0D3B7910>   \n",
       "2  <function Equations.F1 at 0x0000026B0D3B7910>   \n",
       "3  <function Equations.F1 at 0x0000026B0D3B7910>   \n",
       "4  <function Equations.F2 at 0x0000026B0D4440D0>   \n",
       "\n",
       "                                           method  \\\n",
       "0                                   hill_climbing   \n",
       "1                   steepest_ascent_hill_climbing   \n",
       "2  steepest_ascent_hill_climbing_with_replacement   \n",
       "3                                   random_search   \n",
       "4                                   hill_climbing   \n",
       "\n",
       "                                     hyperparameters            best_result  \\\n",
       "0  {'func': <function Equations.F1 at 0x0000026B0...  [-0.5054847966357521]   \n",
       "1  {'func': <function Equations.F1 at 0x0000026B0...   [0.3660922847011143]   \n",
       "2  {'func': <function Equations.F1 at 0x0000026B0...  [0.08738550921658828]   \n",
       "3  {'func': <function Equations.F1 at 0x0000026B0...  [-0.0748192711787965]   \n",
       "4  {'func': <function Equations.F2 at 0x0000026B0...   [1.0707677244969815]   \n",
       "\n",
       "                                    convergence_list  \n",
       "0  [1.3804246200065662, 1.3804246200065662, 1.380...  \n",
       "1  [6.42886204930441, 1.5787582676949237, 1.56821...  \n",
       "2  [5.689407279807489, 2.0356917788771653, 1.5761...  \n",
       "3  [13.804079495656602, 13.288181673179059, 1.519...  \n",
       "4  [18.668794939747553, 12.43526487636964, 12.435...  "
      ]
     },
     "execution_count": 3,
     "metadata": {},
     "output_type": "execute_result"
    }
   ],
   "source": [
    "one_dimension.head(5)"
   ]
  },
  {
   "cell_type": "code",
   "execution_count": null,
   "metadata": {},
   "outputs": [],
   "source": []
  }
 ],
 "metadata": {
  "kernelspec": {
   "display_name": "computer-vision-project",
   "language": "python",
   "name": "python3"
  },
  "language_info": {
   "codemirror_mode": {
    "name": "ipython",
    "version": 3
   },
   "file_extension": ".py",
   "mimetype": "text/x-python",
   "name": "python",
   "nbconvert_exporter": "python",
   "pygments_lexer": "ipython3",
   "version": "3.10.16"
  }
 },
 "nbformat": 4,
 "nbformat_minor": 2
}
