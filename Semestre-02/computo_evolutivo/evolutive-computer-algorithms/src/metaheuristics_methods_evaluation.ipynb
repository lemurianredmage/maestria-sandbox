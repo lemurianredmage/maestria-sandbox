{
 "cells": [
  {
   "cell_type": "markdown",
   "metadata": {},
   "source": [
    "# Experiments"
   ]
  },
  {
   "cell_type": "markdown",
   "metadata": {},
   "source": [
    "## Import libraries"
   ]
  },
  {
   "cell_type": "code",
   "execution_count": 1,
   "metadata": {},
   "outputs": [],
   "source": [
    "from Experiment import Experiment"
   ]
  },
  {
   "cell_type": "code",
   "execution_count": 2,
   "metadata": {},
   "outputs": [],
   "source": [
    "one_dimension = Experiment.experimentForOneDimension(20, 20)"
   ]
  },
  {
   "cell_type": "code",
   "execution_count": 3,
   "metadata": {},
   "outputs": [
    {
     "data": {
      "text/html": [
       "<div>\n",
       "<style scoped>\n",
       "    .dataframe tbody tr th:only-of-type {\n",
       "        vertical-align: middle;\n",
       "    }\n",
       "\n",
       "    .dataframe tbody tr th {\n",
       "        vertical-align: top;\n",
       "    }\n",
       "\n",
       "    .dataframe thead th {\n",
       "        text-align: right;\n",
       "    }\n",
       "</style>\n",
       "<table border=\"1\" class=\"dataframe\">\n",
       "  <thead>\n",
       "    <tr style=\"text-align: right;\">\n",
       "      <th></th>\n",
       "      <th>func</th>\n",
       "      <th>hyperparameters</th>\n",
       "      <th>best_result</th>\n",
       "      <th>convergence_list</th>\n",
       "    </tr>\n",
       "  </thead>\n",
       "  <tbody>\n",
       "    <tr>\n",
       "      <th>0</th>\n",
       "      <td>&lt;function Equations.F1 at 0x0000018DDD4200D0&gt;</td>\n",
       "      <td>{'func': &lt;function Equations.F1 at 0x0000018DD...</td>\n",
       "      <td>[-0.37741524445349395]</td>\n",
       "      <td>[14.32568126079719, 3.442035117339659, 3.44203...</td>\n",
       "    </tr>\n",
       "    <tr>\n",
       "      <th>1</th>\n",
       "      <td>&lt;function Equations.F2 at 0x0000018DDD4201F0&gt;</td>\n",
       "      <td>{'func': &lt;function Equations.F2 at 0x0000018DD...</td>\n",
       "      <td>[0.7586655323975844]</td>\n",
       "      <td>[7.235252019968328, 3.3763607640904927, 3.3763...</td>\n",
       "    </tr>\n",
       "    <tr>\n",
       "      <th>2</th>\n",
       "      <td>&lt;function Equations.F6 at 0x0000018DDD420280&gt;</td>\n",
       "      <td>{'func': &lt;function Equations.F6 at 0x0000018DD...</td>\n",
       "      <td>[9.239600753162701]</td>\n",
       "      <td>[-0.2226400872404675, -0.2226400872404675, -92...</td>\n",
       "    </tr>\n",
       "  </tbody>\n",
       "</table>\n",
       "</div>"
      ],
      "text/plain": [
       "                                            func  \\\n",
       "0  <function Equations.F1 at 0x0000018DDD4200D0>   \n",
       "1  <function Equations.F2 at 0x0000018DDD4201F0>   \n",
       "2  <function Equations.F6 at 0x0000018DDD420280>   \n",
       "\n",
       "                                     hyperparameters             best_result  \\\n",
       "0  {'func': <function Equations.F1 at 0x0000018DD...  [-0.37741524445349395]   \n",
       "1  {'func': <function Equations.F2 at 0x0000018DD...    [0.7586655323975844]   \n",
       "2  {'func': <function Equations.F6 at 0x0000018DD...     [9.239600753162701]   \n",
       "\n",
       "                                    convergence_list  \n",
       "0  [14.32568126079719, 3.442035117339659, 3.44203...  \n",
       "1  [7.235252019968328, 3.3763607640904927, 3.3763...  \n",
       "2  [-0.2226400872404675, -0.2226400872404675, -92...  "
      ]
     },
     "execution_count": 3,
     "metadata": {},
     "output_type": "execute_result"
    }
   ],
   "source": [
    "one_dimension.head(5)"
   ]
  },
  {
   "cell_type": "code",
   "execution_count": null,
   "metadata": {},
   "outputs": [],
   "source": []
  }
 ],
 "metadata": {
  "kernelspec": {
   "display_name": "computer-vision-project",
   "language": "python",
   "name": "python3"
  },
  "language_info": {
   "codemirror_mode": {
    "name": "ipython",
    "version": 3
   },
   "file_extension": ".py",
   "mimetype": "text/x-python",
   "name": "python",
   "nbconvert_exporter": "python",
   "pygments_lexer": "ipython3",
   "version": "3.10.16"
  }
 },
 "nbformat": 4,
 "nbformat_minor": 2
}
